{
 "cells": [
  {
   "cell_type": "markdown",
   "metadata": {},
   "source": [
    "## 1-0: Connect to MySQL and create database"
   ]
  },
  {
   "cell_type": "code",
   "execution_count": 91,
   "metadata": {},
   "outputs": [],
   "source": [
    "# mycursor.execute(\"DROP DATABASE mydatabase;\")"
   ]
  },
  {
   "cell_type": "code",
   "execution_count": 92,
   "metadata": {},
   "outputs": [
    {
     "name": "stdout",
     "output_type": "stream",
     "text": [
      "<mysql.connector.connection_cext.CMySQLConnection object at 0x0000022CC7595C70>\n"
     ]
    }
   ],
   "source": [
    "import csv\n",
    "import json\n",
    "import mysql.connector\n",
    "\n",
    "# please modify hw4_config.json to your own config file\n",
    "with open('hw5_config.json') as f:\n",
    "    config = json.load(f)\n",
    "\n",
    "host = config['host']\n",
    "user = config['user']\n",
    "passwd = config['passwd']\n",
    "dbms_student_path = config['dbms_student_path']\n",
    "new_student_path = config['new_student_path']\n",
    "\n",
    "mydb = mysql.connector.connect(\n",
    "  host=host,\n",
    "  user=user,\n",
    "  password=passwd\n",
    ")\n",
    "\n",
    "print(mydb)\n",
    "\n",
    "mycursor = mydb.cursor()\n",
    "mycursor.execute(\"CREATE DATABASE mydatabase\")\n",
    "mycursor.execute(\"USE mydatabase\")"
   ]
  },
  {
   "attachments": {},
   "cell_type": "markdown",
   "metadata": {},
   "source": [
    "## 1-1: Input data into student table"
   ]
  },
  {
   "cell_type": "code",
   "execution_count": 93,
   "metadata": {},
   "outputs": [],
   "source": [
    "# mycursor.execute(\"DROP TABLE student;\")"
   ]
  },
  {
   "cell_type": "code",
   "execution_count": 94,
   "metadata": {},
   "outputs": [
    {
     "name": "stdout",
     "output_type": "stream",
     "text": [
      "['身份', '系所', '年級', '學號', '姓名', '信箱', '班別']\n"
     ]
    }
   ],
   "source": [
    "mydb.consume_results()\n",
    "with open(dbms_student_path, 'r', newline='', encoding='big5') as csv_data:\n",
    "    reader = csv.reader(csv_data)\n",
    "    columns = next(reader) # get first row \n",
    "    print(columns)\n",
    "\n",
    "    # create table\n",
    "    table_name = \"student\"\n",
    "    sql_create_table = f\"CREATE TABLE {table_name} (\"\n",
    "    column_definitions = \", \".join(f\"`{col}` VARCHAR(100)\" for col in columns)\n",
    "    sql_create_table += column_definitions + \");\"\n",
    "    mycursor.execute(sql_create_table)\n",
    "\n",
    "    placeholders = \", \".join([\"%s\"] * len(columns))\n",
    "    sql_insert = f\"INSERT INTO {table_name} ({', '.join(f'`{col}`' for col in columns)}) VALUES ({placeholders})\"\n",
    "\n",
    "    # Insert data into table row by row\n",
    "    for row in reader: \n",
    "        mycursor.execute(sql_insert, row)\n",
    "        mydb.commit()\n"
   ]
  },
  {
   "attachments": {},
   "cell_type": "markdown",
   "metadata": {},
   "source": [
    "## 1-2: Read the information about yourself"
   ]
  },
  {
   "cell_type": "code",
   "execution_count": 95,
   "metadata": {},
   "outputs": [
    {
     "name": "stdout",
     "output_type": "stream",
     "text": [
      "[('學生', '電機所      ', '1', 'R12921059', '鄧雅文 (TENG, YA-WEN)', 'r12921059@ntu.edu.tw', '資料庫系統-從SQL到NoSQL (EE5178)')]\n"
     ]
    }
   ],
   "source": [
    "mydb.consume_results()\n",
    "mycursor.execute(\"SELECT * FROM student WHERE student.學號='R12921059';\")\n",
    "result = mycursor.fetchall()\n",
    "print (result)"
   ]
  },
  {
   "attachments": {},
   "cell_type": "markdown",
   "metadata": {},
   "source": [
    "## 1-3: Update your own value of the \"身份\" column "
   ]
  },
  {
   "cell_type": "code",
   "execution_count": 96,
   "metadata": {},
   "outputs": [
    {
     "name": "stdout",
     "output_type": "stream",
     "text": [
      "[('特優生', '電機所      ', '1', 'R12921059', '鄧雅文 (TENG, YA-WEN)', 'r12921059@ntu.edu.tw', '資料庫系統-從SQL到NoSQL (EE5178)')]\n"
     ]
    }
   ],
   "source": [
    "mydb.consume_results()\n",
    "mycursor.execute(\"UPDATE student SET 身份 = '特優生' WHERE 學號 = 'R12921059' AND 身份 = '學生';\")\n",
    "mycursor.execute(\"SELECT * FROM student WHERE student.學號='R12921059';\")\n",
    "result = mycursor.fetchall()\n",
    "print (result)"
   ]
  },
  {
   "attachments": {},
   "cell_type": "markdown",
   "metadata": {},
   "source": [
    "## 1-4: Insert three new students "
   ]
  },
  {
   "cell_type": "code",
   "execution_count": 97,
   "metadata": {},
   "outputs": [],
   "source": [
    "mydb.consume_results()\n",
    "with open(new_student_path, 'r', newline='', encoding='utf-8-sig') as csv_data:\n",
    "    reader = csv.reader(csv_data)\n",
    "    columns = next(reader) # get first row\n",
    "    \n",
    "    table_name = \"student\"\n",
    "    placeholders = \", \".join([\"%s\"] * len(columns))\n",
    "    sql_insert = f\"INSERT INTO {table_name} ({', '.join(f'`{col}`' for col in columns)}) VALUES ({placeholders})\"\n",
    "\n",
    "    # Insert data into table row by row\n",
    "    for row in reader: \n",
    "        mycursor.execute(sql_insert, row)\n",
    "        mydb.commit() "
   ]
  },
  {
   "attachments": {},
   "cell_type": "markdown",
   "metadata": {},
   "source": [
    "## 1-5: Prepared select statement \n",
    "Reference: https://zetcode.com/db/mysqlpython/"
   ]
  },
  {
   "cell_type": "code",
   "execution_count": 98,
   "metadata": {},
   "outputs": [
    {
     "name": "stdout",
     "output_type": "stream",
     "text": [
      "[('旁聽生', '電機所', '2', 'R10123456', '小紅', 'r10123456@ntu.edu.tw', '資料庫系統-從SQL到NoSQL (EE5178)')]\n",
      "[('學生', '物理系', '3', 'B09987653', '小黃', 'b09987653@ntu.edu.tw', '資料庫系統-從SQL到NoSQL (EE5178)')]\n",
      "[('觀察者', '電信所', '1', 'R11123001', '小綠', 'r11123001@ntu.edu.tw', '資料庫系統-從SQL到NoSQL (EE5178)')]\n"
     ]
    }
   ],
   "source": [
    "mydb.consume_results()\n",
    "query_prepare = \"SELECT * FROM student \"+\\\n",
    "                \"WHERE student.`學號`= %s;\"\n",
    "\n",
    "mycursor.execute(query_prepare, (\"R10123456\",))\n",
    "result1 = mycursor.fetchall()\n",
    "print (result1)\n",
    "\n",
    "mycursor.execute(query_prepare, ('B09987653',))\n",
    "result2 = mycursor.fetchall()\n",
    "print (result2)\n",
    "\n",
    "mycursor.execute(query_prepare, ('R11123001',))\n",
    "result3 = mycursor.fetchall()\n",
    "print (result3)"
   ]
  },
  {
   "attachments": {},
   "cell_type": "markdown",
   "metadata": {},
   "source": [
    "## 1-6: Group information"
   ]
  },
  {
   "cell_type": "code",
   "execution_count": 99,
   "metadata": {},
   "outputs": [
    {
     "name": "stdout",
     "output_type": "stream",
     "text": [
      "[('學生', '機械系      ', '4', 'B09502132', '周哲瑋 (CHOU,CHE-WEI)', 'b09502132@ntu.edu.tw', '資料庫系統-從SQL到NoSQL (EE5178)', 7, 0), ('特優生', '電機所      ', '1', 'R12921059', '鄧雅文 (TENG, YA-WEN)', 'r12921059@ntu.edu.tw', '資料庫系統-從SQL到NoSQL (EE5178)', 7, 1), ('學生', '電機所      ', '1', 'R12921093', '吳吉加 (CHI-CHIA WU)', 'r12921093@ntu.edu.tw', '資料庫系統-從SQL到NoSQL (EE5178)', 7, 0), ('學生', '資工所      ', '1', 'R12922116', '王偉力 (WANG, WEI-LI)', 'r12922116@ntu.edu.tw', '資料庫系統-從SQL到NoSQL (EE5178)', 7, 0)]\n"
     ]
    }
   ],
   "source": [
    "mycursor.execute(\"ALTER TABLE student ADD `group` INT DEFAULT 0, ADD `captain` BOOLEAN DEFAULT FALSE;\")\n",
    "\n",
    "query_update_group = \"UPDATE student \" +\\\n",
    "                     \"SET `group`= 7 \"+\\\n",
    "                     \"WHERE `學號`= %s;\"\n",
    "list_update_group = [\"R12921059\",\"R12921093\",\"R12922116\",\"B09502132\"]\n",
    "for id in list_update_group:\n",
    "    mycursor.execute(query_update_group, (id,))\n",
    "    mydb.commit() \n",
    "\n",
    "\n",
    "query_update_captain = \"UPDATE student \" +\\\n",
    "                       \"SET captain=1 \"+\\\n",
    "                       \"WHERE `學號`= %s;\"\n",
    "mycursor.execute(query_update_captain, (\"R12921059\",))\n",
    "mydb.commit() \n",
    "\n",
    "\n",
    "query_select_group = \"SELECT * \" +\\\n",
    "                     \"FROM student \"+\\\n",
    "                     \"WHERE student.`group`= 7;\"\n",
    "mycursor.execute(query_select_group)\n",
    "result = mycursor.fetchall()\n",
    "print (result)"
   ]
  },
  {
   "cell_type": "markdown",
   "metadata": {},
   "source": [
    "## 1-7: Close the database connection\n",
    "Important, otherwise part2 will fail."
   ]
  },
  {
   "cell_type": "code",
   "execution_count": 100,
   "metadata": {},
   "outputs": [],
   "source": [
    "mydb.close()"
   ]
  }
 ],
 "metadata": {
  "kernelspec": {
   "display_name": "ta_hw4",
   "language": "python",
   "name": "python3"
  },
  "language_info": {
   "codemirror_mode": {
    "name": "ipython",
    "version": 3
   },
   "file_extension": ".py",
   "mimetype": "text/x-python",
   "name": "python",
   "nbconvert_exporter": "python",
   "pygments_lexer": "ipython3",
   "version": "3.8.19"
  },
  "orig_nbformat": 4
 },
 "nbformat": 4,
 "nbformat_minor": 2
}
